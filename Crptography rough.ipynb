{
 "cells": [
  {
   "cell_type": "code",
   "execution_count": 10,
   "metadata": {},
   "outputs": [],
   "source": [
    "from cryptography.fernet import Fernet"
   ]
  },
  {
   "cell_type": "code",
   "execution_count": 11,
   "metadata": {},
   "outputs": [],
   "source": [
    "def generateKey():\n",
    "    key=Fernet.generate_key()\n",
    "    return key"
   ]
  },
  {
   "cell_type": "code",
   "execution_count": 3,
   "metadata": {},
   "outputs": [
    {
     "name": "stdout",
     "output_type": "stream",
     "text": [
      "b'NtEvVBWbzSEBu6axGA21Aw6pt3MsO1zFM_mCu9Al8oM='\n"
     ]
    }
   ],
   "source": [
    "print(generateKey())"
   ]
  },
  {
   "cell_type": "code",
   "execution_count": 18,
   "metadata": {},
   "outputs": [
    {
     "name": "stdout",
     "output_type": "stream",
     "text": [
      "<class 'bytes'>\n"
     ]
    }
   ],
   "source": [
    "print(type(generateKey()))"
   ]
  },
  {
   "cell_type": "code",
   "execution_count": 15,
   "metadata": {},
   "outputs": [],
   "source": [
    "def encrypt(filename,key):\n",
    "    fernet_obj=Fernet(key)\n",
    "    with open(filename, 'rb') as original_file:\n",
    "        original = original_file.read()\n",
    "    \n",
    "    encrypted = fernet_obj.encrypt(original)\n",
    "    newFilename=filename.split('.')\n",
    "    newFileName='_enc.'.join(newFilename)\n",
    "    print(newFileName)\n",
    "    with open (newFileName, 'wb') as encrypted_file:\n",
    "        encrypted_file.write(encrypted)\n",
    "    return True"
   ]
  },
  {
   "cell_type": "code",
   "execution_count": 16,
   "metadata": {},
   "outputs": [],
   "source": [
    "def decrypt(filename,key):\n",
    "    fernet_obj=Fernet(key)\n",
    "    with open(filename, 'rb') as encrypted_file:\n",
    "        encrypted = encrypted_file.read()\n",
    "    decrypted = fernet_obj.decrypt(encrypted)\n",
    "    newFilename=filename.split('_enc.')\n",
    "    newFileName='_dec.'.join(newFilename)\n",
    "    print(newFileName)\n",
    "    with open(newFileName, 'wb') as decrypted_file:\n",
    "        decrypted_file.write(decrypted)\n",
    "    return True"
   ]
  },
  {
   "cell_type": "code",
   "execution_count": 17,
   "metadata": {},
   "outputs": [
    {
     "name": "stdout",
     "output_type": "stream",
     "text": [
      "1_enc.txt\n"
     ]
    },
    {
     "data": {
      "text/plain": [
       "True"
      ]
     },
     "execution_count": 17,
     "metadata": {},
     "output_type": "execute_result"
    }
   ],
   "source": [
    "encrypt('1.txt',b'NtEvVBWbzSEBu6axGA21Aw6pt3MsO1zFM_mCu9Al8oM=')"
   ]
  },
  {
   "cell_type": "code",
   "execution_count": 19,
   "metadata": {},
   "outputs": [
    {
     "name": "stdout",
     "output_type": "stream",
     "text": [
      "1_dec.txt\n"
     ]
    },
    {
     "data": {
      "text/plain": [
       "True"
      ]
     },
     "execution_count": 19,
     "metadata": {},
     "output_type": "execute_result"
    }
   ],
   "source": [
    "decrypt('1_enc.txt',b'NtEvVBWbzSEBu6axGA21Aw6pt3MsO1zFM_mCu9Al8oM=')"
   ]
  },
  {
   "cell_type": "code",
   "execution_count": null,
   "metadata": {},
   "outputs": [],
   "source": []
  }
 ],
 "metadata": {
  "kernelspec": {
   "display_name": "Python 3",
   "language": "python",
   "name": "python3"
  },
  "language_info": {
   "codemirror_mode": {
    "name": "ipython",
    "version": 3
   },
   "file_extension": ".py",
   "mimetype": "text/x-python",
   "name": "python",
   "nbconvert_exporter": "python",
   "pygments_lexer": "ipython3",
   "version": "3.7.9"
  }
 },
 "nbformat": 4,
 "nbformat_minor": 4
}
